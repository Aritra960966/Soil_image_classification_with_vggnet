{
 "cells": [
  {
   "cell_type": "code",
   "execution_count": null,
   "metadata": {
    "_cell_guid": "b1076dfc-b9ad-4769-8c92-a6c4dae69d19",
    "_uuid": "8f2839f25d086af736a60e9eeb907d3b93b6e0e5",
    "execution": {
     "iopub.execute_input": "2023-07-29T10:07:06.288243Z",
     "iopub.status.busy": "2023-07-29T10:07:06.287775Z",
     "iopub.status.idle": "2023-07-29T10:07:06.310202Z",
     "shell.execute_reply": "2023-07-29T10:07:06.309011Z",
     "shell.execute_reply.started": "2023-07-29T10:07:06.288209Z"
    },
    "trusted": true
   },
   "outputs": [],
   "source": [
    "import numpy as np # linear algebra\n",
    "import pandas as pd # data processing, CSV file I/O (e.g. pd.read_csv)\n",
    "\n",
    "# Input data files are available in the read-only \"../input/\" directory\n",
    "# For example, running this (by clicking run or pressing Shift+Enter) will list all files under the input directory\n",
    "\n",
    "import os\n",
    "for dirname, _, filenames in os.walk('/kaggle/input'):\n",
    "    for filename in filenames:\n",
    "        print(os.path.join(dirname, filename))\n",
    "\n",
    "# You can write up to 20GB to the current directory (/kaggle/working/) that gets preserved as output when you create a version using \"Save & Run All\" \n",
    "# You can also write temporary files to /kaggle/temp/, but they won't be saved outside of the current session"
   ]
  },
  {
   "cell_type": "markdown",
   "metadata": {},
   "source": [
    "## Fetching and preprocessing data\n",
    "* Getting dataset\n",
    "* Information\n",
    "* Describing data"
   ]
  },
  {
   "cell_type": "code",
   "execution_count": null,
   "metadata": {
    "execution": {
     "iopub.execute_input": "2023-07-29T10:07:07.479464Z",
     "iopub.status.busy": "2023-07-29T10:07:07.478637Z",
     "iopub.status.idle": "2023-07-29T10:07:07.547505Z",
     "shell.execute_reply": "2023-07-29T10:07:07.54622Z",
     "shell.execute_reply.started": "2023-07-29T10:07:07.479422Z"
    },
    "trusted": true
   },
   "outputs": [],
   "source": [
    "df = pd.read_csv(\"/kaggle/input/crop-recommendation-dataset/Crop_recommendation.csv\")\n",
    "df.head()"
   ]
  },
  {
   "cell_type": "code",
   "execution_count": null,
   "metadata": {
    "execution": {
     "iopub.execute_input": "2023-07-29T10:07:07.912989Z",
     "iopub.status.busy": "2023-07-29T10:07:07.912574Z",
     "iopub.status.idle": "2023-07-29T10:07:07.948957Z",
     "shell.execute_reply": "2023-07-29T10:07:07.947716Z",
     "shell.execute_reply.started": "2023-07-29T10:07:07.912958Z"
    },
    "trusted": true
   },
   "outputs": [],
   "source": [
    "df.info()"
   ]
  },
  {
   "cell_type": "code",
   "execution_count": null,
   "metadata": {
    "execution": {
     "iopub.execute_input": "2023-07-29T10:07:10.204123Z",
     "iopub.status.busy": "2023-07-29T10:07:10.202851Z",
     "iopub.status.idle": "2023-07-29T10:07:10.262803Z",
     "shell.execute_reply": "2023-07-29T10:07:10.261342Z",
     "shell.execute_reply.started": "2023-07-29T10:07:10.204048Z"
    },
    "trusted": true
   },
   "outputs": [],
   "source": [
    "df.describe()"
   ]
  },
  {
   "cell_type": "code",
   "execution_count": null,
   "metadata": {
    "execution": {
     "iopub.execute_input": "2023-07-29T10:07:10.807968Z",
     "iopub.status.busy": "2023-07-29T10:07:10.807534Z",
     "iopub.status.idle": "2023-07-29T10:07:10.817719Z",
     "shell.execute_reply": "2023-07-29T10:07:10.816307Z",
     "shell.execute_reply.started": "2023-07-29T10:07:10.807932Z"
    },
    "trusted": true
   },
   "outputs": [],
   "source": [
    "df['label'].unique()"
   ]
  },
  {
   "cell_type": "markdown",
   "metadata": {},
   "source": [
    "## EDA\n",
    "* N = Nitrogen level\n",
    "* P = Phosphorus Level\n",
    "* K = Potassium Level"
   ]
  },
  {
   "cell_type": "code",
   "execution_count": null,
   "metadata": {
    "execution": {
     "iopub.execute_input": "2023-07-29T10:07:23.562737Z",
     "iopub.status.busy": "2023-07-29T10:07:23.562285Z",
     "iopub.status.idle": "2023-07-29T10:07:23.572942Z",
     "shell.execute_reply": "2023-07-29T10:07:23.571686Z",
     "shell.execute_reply.started": "2023-07-29T10:07:23.562705Z"
    },
    "trusted": true
   },
   "outputs": [],
   "source": [
    "# possible combinations for relational study\n",
    "import matplotlib.pyplot as plt\n",
    "\n",
    "def fact(num):\n",
    "    if num < 2:\n",
    "        return 1\n",
    "    return fact(num-1)*num\n",
    "combinations = fact(7)/(fact(2)*fact(5))\n",
    "combinations"
   ]
  },
  {
   "cell_type": "code",
   "execution_count": null,
   "metadata": {
    "execution": {
     "iopub.execute_input": "2023-07-29T10:15:39.57127Z",
     "iopub.status.busy": "2023-07-29T10:15:39.570733Z",
     "iopub.status.idle": "2023-07-29T10:15:44.470701Z",
     "shell.execute_reply": "2023-07-29T10:15:44.469743Z",
     "shell.execute_reply.started": "2023-07-29T10:15:39.571232Z"
    },
    "trusted": true
   },
   "outputs": [],
   "source": [
    "from pandas.plotting import scatter_matrix\n",
    "scatter_matrix(df.drop('label',axis='columns'),figsize=(16,16),marker='.',alpha=0.4,c='red')\n",
    "plt.show()"
   ]
  },
  {
   "cell_type": "markdown",
   "metadata": {},
   "source": [
    "## Preparing data for model building\n",
    "* label encoding"
   ]
  },
  {
   "cell_type": "code",
   "execution_count": null,
   "metadata": {
    "execution": {
     "iopub.execute_input": "2023-06-29T10:37:53.411534Z",
     "iopub.status.busy": "2023-06-29T10:37:53.411159Z",
     "iopub.status.idle": "2023-06-29T10:37:54.212657Z",
     "shell.execute_reply": "2023-06-29T10:37:54.211591Z",
     "shell.execute_reply.started": "2023-06-29T10:37:53.411504Z"
    },
    "trusted": true
   },
   "outputs": [],
   "source": [
    "from sklearn.model_selection import train_test_split,cross_val_score,GridSearchCV\n",
    "from sklearn.preprocessing import LabelEncoder"
   ]
  },
  {
   "cell_type": "code",
   "execution_count": null,
   "metadata": {
    "execution": {
     "iopub.execute_input": "2023-06-29T10:37:54.215634Z",
     "iopub.status.busy": "2023-06-29T10:37:54.215257Z",
     "iopub.status.idle": "2023-06-29T10:37:54.23227Z",
     "shell.execute_reply": "2023-06-29T10:37:54.230756Z",
     "shell.execute_reply.started": "2023-06-29T10:37:54.215606Z"
    },
    "scrolled": true,
    "trusted": true
   },
   "outputs": [],
   "source": [
    "encoder = LabelEncoder()\n",
    "df['label_en'] = encoder.fit_transform(df['label'])\n",
    "labels_lis = sorted(df['label'].unique())\n",
    "labels_dic = {}\n",
    "df.drop('label',axis='columns',inplace=True)\n",
    "for i,val in enumerate(labels_lis):\n",
    "    labels_dic.update({i:val})\n",
    "labels_dic"
   ]
  },
  {
   "cell_type": "code",
   "execution_count": null,
   "metadata": {
    "execution": {
     "iopub.execute_input": "2023-06-29T10:37:54.237781Z",
     "iopub.status.busy": "2023-06-29T10:37:54.237339Z",
     "iopub.status.idle": "2023-06-29T10:37:54.246968Z",
     "shell.execute_reply": "2023-06-29T10:37:54.245779Z",
     "shell.execute_reply.started": "2023-06-29T10:37:54.237747Z"
    },
    "trusted": true
   },
   "outputs": [],
   "source": [
    "X = df.drop('label_en',axis=1)\n",
    "y = df['label_en']"
   ]
  },
  {
   "cell_type": "markdown",
   "metadata": {},
   "source": [
    "## Building model\n",
    "* grid search cv\n",
    "* cross validation \n",
    "* splitting data into training and testing"
   ]
  },
  {
   "cell_type": "code",
   "execution_count": null,
   "metadata": {
    "execution": {
     "iopub.execute_input": "2023-06-29T10:37:54.249696Z",
     "iopub.status.busy": "2023-06-29T10:37:54.249258Z",
     "iopub.status.idle": "2023-06-29T10:37:54.708035Z",
     "shell.execute_reply": "2023-06-29T10:37:54.707038Z",
     "shell.execute_reply.started": "2023-06-29T10:37:54.249663Z"
    },
    "trusted": true
   },
   "outputs": [],
   "source": [
    "from sklearn.ensemble import RandomForestClassifier,BaggingClassifier\n",
    "from sklearn.svm import SVC\n",
    "from sklearn.linear_model import LogisticRegression\n",
    "from sklearn.tree import DecisionTreeClassifier\n",
    "import warnings\n",
    "warnings.filterwarnings('ignore')"
   ]
  },
  {
   "cell_type": "markdown",
   "metadata": {},
   "source": [
    "#### ---> Grid search cv (svm)"
   ]
  },
  {
   "cell_type": "code",
   "execution_count": null,
   "metadata": {
    "execution": {
     "iopub.execute_input": "2023-06-29T10:37:54.710405Z",
     "iopub.status.busy": "2023-06-29T10:37:54.70954Z",
     "iopub.status.idle": "2023-06-29T10:37:54.717043Z",
     "shell.execute_reply": "2023-06-29T10:37:54.715846Z",
     "shell.execute_reply.started": "2023-06-29T10:37:54.710371Z"
    },
    "trusted": true
   },
   "outputs": [],
   "source": [
    "def best_params(cv_df):\n",
    "    \"\"\"returns best score parameters\"\"\"\n",
    "    best_test_score = cv_df[cv_df['mean_test_score']==cv_df['mean_test_score'].max()]\n",
    "    best_test_train_score = best_test_score[best_test_score['mean_train_score']==best_test_score['mean_train_score'].max()]\n",
    "    return best_test_train_score['params'].values"
   ]
  },
  {
   "cell_type": "code",
   "execution_count": null,
   "metadata": {
    "execution": {
     "iopub.execute_input": "2023-06-29T10:37:54.718867Z",
     "iopub.status.busy": "2023-06-29T10:37:54.718365Z",
     "iopub.status.idle": "2023-06-29T10:38:00.534195Z",
     "shell.execute_reply": "2023-06-29T10:38:00.533162Z",
     "shell.execute_reply.started": "2023-06-29T10:37:54.718831Z"
    },
    "trusted": true
   },
   "outputs": [],
   "source": [
    "svm_cv = GridSearchCV(SVC(),param_grid={\n",
    "    'C':[0.1,1,10],\n",
    "    'kernel':['rbf','poly'],\n",
    "},return_train_score=True)\n",
    "svm_cv.fit(X,y)\n",
    "\n",
    "svc_grid = pd.DataFrame(svm_cv.cv_results_)\n",
    "svc_paras = best_params(svc_grid)\n",
    "svc_paras"
   ]
  },
  {
   "cell_type": "markdown",
   "metadata": {},
   "source": [
    "#### ---> Grid search cv (random foresr calssifier)"
   ]
  },
  {
   "cell_type": "code",
   "execution_count": null,
   "metadata": {
    "execution": {
     "iopub.execute_input": "2023-06-29T10:38:00.536862Z",
     "iopub.status.busy": "2023-06-29T10:38:00.535997Z"
    },
    "trusted": true
   },
   "outputs": [],
   "source": [
    "rf_cv = GridSearchCV(RandomForestClassifier(),param_grid={\n",
    "    'max_depth': [None, 5, 10],\n",
    "    'min_samples_split': [2, 5, 10],\n",
    "    'min_samples_leaf': [1, 2, 4]\n",
    "},return_train_score=True)\n",
    "rf_cv.fit(X,y)\n",
    "\n",
    "rf_grid = pd.DataFrame(rf_cv.cv_results_)\n",
    "rf_paras = best_params(rf_grid)\n",
    "rf_paras"
   ]
  },
  {
   "cell_type": "markdown",
   "metadata": {},
   "source": [
    "#### ---> Grid search cv (Decision tree)"
   ]
  },
  {
   "cell_type": "code",
   "execution_count": null,
   "metadata": {
    "trusted": true
   },
   "outputs": [],
   "source": [
    "dt_cv = GridSearchCV(DecisionTreeClassifier(),param_grid={\n",
    "    'criterion': ['gini', 'entropy'],\n",
    "    'max_depth': [None, 5, 10],\n",
    "    'min_samples_split': [2, 5, 10],\n",
    "    'min_samples_leaf': [1, 2, 4]\n",
    "},return_train_score=True)\n",
    "dt_cv.fit(X,y)\n",
    "\n",
    "dt_grid = pd.DataFrame(dt_cv.cv_results_)\n",
    "dt_paras = best_params(dt_grid)\n",
    "dt_paras"
   ]
  },
  {
   "cell_type": "markdown",
   "metadata": {},
   "source": [
    "#### ---> Grid search cv (Logistic regression)"
   ]
  },
  {
   "cell_type": "code",
   "execution_count": null,
   "metadata": {
    "trusted": true
   },
   "outputs": [],
   "source": [
    "lr_cv = GridSearchCV(LogisticRegression(),param_grid={\n",
    "    'penalty': ['l1', 'l2'],\n",
    "    'C': [0.1, 1, 10],\n",
    "    'solver': ['liblinear', 'saga']\n",
    "},return_train_score=True)\n",
    "lr_cv.fit(X,y)\n",
    "\n",
    "lr_grid = pd.DataFrame(lr_cv.cv_results_)\n",
    "lr_paras = best_params(lr_grid)\n",
    "lr_paras\n"
   ]
  },
  {
   "cell_type": "markdown",
   "metadata": {},
   "source": [
    "#### ---> Grid search cv (bagging classifier)"
   ]
  },
  {
   "cell_type": "code",
   "execution_count": null,
   "metadata": {
    "trusted": true
   },
   "outputs": [],
   "source": [
    "bg_cv = GridSearchCV(BaggingClassifier(base_estimator=DecisionTreeClassifier()),param_grid={\n",
    "    'n_estimators': [50],\n",
    "    'max_samples': [0.5, 0.7, 1.0],\n",
    "    'max_features': [0.5, 0.7, 1.0],\n",
    "    'base_estimator__max_depth': [None, 5, 10]\n",
    "},return_train_score=True)\n",
    "bg_cv.fit(X,y)\n",
    "\n",
    "bg_grid = pd.DataFrame(bg_cv.cv_results_)\n",
    "bg_paras = best_params(bg_grid)\n",
    "bg_paras"
   ]
  },
  {
   "cell_type": "markdown",
   "metadata": {},
   "source": [
    "#### ---> Cross validation"
   ]
  },
  {
   "cell_type": "code",
   "execution_count": null,
   "metadata": {
    "trusted": true
   },
   "outputs": [],
   "source": [
    "def score(model,X,y):\n",
    "    result = cross_val_score(model,X,y)\n",
    "    return result,sum(result)/len(result)\n",
    "models = [RandomForestClassifier(max_depth=10, min_samples_leaf=1, min_samples_split=2),BaggingClassifier(max_features=0.7, max_samples=1.0, n_estimators=50),SVC(C=10, kernel='poly'),LogisticRegression(C=10,penalty='l1',solver='liblinear'),DecisionTreeClassifier(criterion='gini', max_depth=None, min_samples_leaf=1, min_samples_split=5)]\n",
    "for model in models:\n",
    "    print(model,score(model,X,y))"
   ]
  },
  {
   "cell_type": "code",
   "execution_count": null,
   "metadata": {
    "trusted": true
   },
   "outputs": [],
   "source": [
    "X_train, X_test, y_train, y_test = train_test_split(X,y,stratify=y)\n",
    "X_train.shape,y_test.shape"
   ]
  },
  {
   "cell_type": "code",
   "execution_count": null,
   "metadata": {
    "trusted": true
   },
   "outputs": [],
   "source": [
    "model = RandomForestClassifier(max_depth=10, min_samples_leaf=1, min_samples_split=2)\n",
    "model.fit(X_train,y_train)\n",
    "model.score(X_train,y_train),model.score(X_test,y_test)"
   ]
  },
  {
   "cell_type": "markdown",
   "metadata": {},
   "source": [
    "#### ---> Saving model"
   ]
  },
  {
   "cell_type": "code",
   "execution_count": null,
   "metadata": {
    "trusted": true
   },
   "outputs": [],
   "source": [
    "import joblib\n",
    "joblib.dump(model,\"crop recommendation\")"
   ]
  },
  {
   "cell_type": "markdown",
   "metadata": {},
   "source": [
    "99.4512 accuracy is achieved with RandomForestClassifier"
   ]
  }
 ],
 "metadata": {
  "kaggle": {
   "accelerator": "none",
   "dataSources": [
    {
     "datasetId": 1366334,
     "sourceId": 2269277,
     "sourceType": "datasetVersion"
    }
   ],
   "dockerImageVersionId": 30513,
   "isGpuEnabled": false,
   "isInternetEnabled": false,
   "language": "python",
   "sourceType": "notebook"
  },
  "kernelspec": {
   "display_name": "Python 3",
   "language": "python",
   "name": "python3"
  },
  "language_info": {
   "codemirror_mode": {
    "name": "ipython",
    "version": 3
   },
   "file_extension": ".py",
   "mimetype": "text/x-python",
   "name": "python",
   "nbconvert_exporter": "python",
   "pygments_lexer": "ipython3",
   "version": "3.6.4"
  }
 },
 "nbformat": 4,
 "nbformat_minor": 4
}
